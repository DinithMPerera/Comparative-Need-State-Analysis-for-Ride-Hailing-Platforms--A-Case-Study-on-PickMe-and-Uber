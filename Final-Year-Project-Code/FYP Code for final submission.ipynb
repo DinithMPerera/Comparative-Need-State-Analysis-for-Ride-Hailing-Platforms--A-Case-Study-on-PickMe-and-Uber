{
 "cells": [
  {
   "cell_type": "markdown",
   "id": "aa53daa7",
   "metadata": {},
   "source": [
    "# Comparative Need State Analysis for Ride-Hailing Platforms: A Case Study on PickMe and Uber"
   ]
  },
  {
   "cell_type": "code",
   "execution_count": 1,
   "id": "c5e99e63",
   "metadata": {},
   "outputs": [],
   "source": [
    "import pandas as pd\n",
    "import numpy as np\n",
    "import matplotlib.pyplot as plt\n",
    "import seaborn as sns"
   ]
  },
  {
   "cell_type": "code",
   "execution_count": 2,
   "id": "cd5f734e",
   "metadata": {},
   "outputs": [],
   "source": [
    "# Load the two datasets\n",
    "\n",
    "# main_file_path: Contains all responses from both the English and Sinhala surveys, \n",
    "# excluding Sinhala entries where respondents selected \"Both PickMe and Uber\" and skipped the \"b_time\" question (due to its absence in that version of the survey).\n",
    "main_file_path = 'The Main English dataset of final year project.xlsx'\n",
    "\n",
    "# dual_platform_file_path: Contains the translated responses for Sinhala participants who selected \"Both PickMe and Uber\" \n",
    "# but originally missed the \"b_time\" question used for targeted missing value imputation.\n",
    "dual_platform_file_path = 'Both PickMe & Uber Option translated data.xlsx'\n"
   ]
  },
  {
   "cell_type": "code",
   "execution_count": 3,
   "id": "934e7cf0",
   "metadata": {},
   "outputs": [],
   "source": [
    "# Create DataFrames from the Excel files\n",
    "main_df = pd.read_excel(main_file_path)\n",
    "dual_platform_df = pd.read_excel(dual_platform_file_path)"
   ]
  },
  {
   "cell_type": "markdown",
   "id": "a6a54d44",
   "metadata": {},
   "source": [
    "# DATA PREPROCESSING"
   ]
  },
  {
   "cell_type": "markdown",
   "id": "c2c34c24",
   "metadata": {},
   "source": [
    "#### main_df"
   ]
  },
  {
   "cell_type": "code",
   "execution_count": 4,
   "id": "e1555825",
   "metadata": {},
   "outputs": [
    {
     "name": "stdout",
     "output_type": "stream",
     "text": [
      "The dataset contains 428 rows.\n"
     ]
    }
   ],
   "source": [
    "# Get the row count of the dataset\n",
    "row_count = len(main_df)\n",
    "print(f\"The dataset contains {row_count} rows.\")"
   ]
  },
  {
   "cell_type": "code",
   "execution_count": 5,
   "id": "7c36cb83",
   "metadata": {},
   "outputs": [
    {
     "data": {
      "text/plain": [
       "Timestamp               datetime64[ns]\n",
       "Age                             object\n",
       "Gender                          object\n",
       "District                        object\n",
       "Monthly_Income                  object\n",
       "RideHailing_App                 object\n",
       "P_PickMePreference              object\n",
       "P_PickMePurpose                 object\n",
       "P_PickMeFrequency               object\n",
       "P_PickMeVehicle                 object\n",
       "P_PickMeTime                    object\n",
       "P_PickMePayment                 object\n",
       "P_PickMePass                    object\n",
       "U_UberPreference                object\n",
       "U_UberPurpose                   object\n",
       "U_UberFrequency                 object\n",
       "U_UberVehicle                   object\n",
       "U_UberTime                      object\n",
       "U_UberPayment                   object\n",
       "U_UberOne                       object\n",
       "B_Preference                    object\n",
       "B_SwitchingFrequency            object\n",
       "B_Purpose                       object\n",
       "B_Frequency                     object\n",
       "B_Time                          object\n",
       "B_PickMeVehicle                 object\n",
       "B_UberVehicle                   object\n",
       "B_PaymentMethod                 object\n",
       "B_PickMePass                    object\n",
       "B_UberOne                       object\n",
       "dtype: object"
      ]
     },
     "execution_count": 5,
     "metadata": {},
     "output_type": "execute_result"
    }
   ],
   "source": [
    "main_df.dtypes"
   ]
  },
  {
   "cell_type": "code",
   "execution_count": 6,
   "id": "ac1953a5",
   "metadata": {},
   "outputs": [
    {
     "name": "stdout",
     "output_type": "stream",
     "text": [
      "The dataset contains 428 rows.\n"
     ]
    }
   ],
   "source": [
    "# Remove duplicate rows, if any\n",
    "main_df.drop_duplicates(inplace=True)\n",
    "\n",
    "# Get the row count of the dataset\n",
    "row_count = len(main_df)\n",
    "print(f\"The dataset contains {row_count} rows.\")"
   ]
  },
  {
   "cell_type": "code",
   "execution_count": 7,
   "id": "74f71305",
   "metadata": {},
   "outputs": [
    {
     "name": "stdout",
     "output_type": "stream",
     "text": [
      "The dataset contains 428 rows.\n"
     ]
    }
   ],
   "source": [
    "# Drop rows where all elements are missing\n",
    "main_df.dropna(how='all', inplace=True)\n",
    "\n",
    "# Get the row count of the dataset\n",
    "row_count = len(main_df)\n",
    "print(f\"The dataset contains {row_count} rows.\")"
   ]
  },
  {
   "cell_type": "code",
   "execution_count": 8,
   "id": "c836dc10",
   "metadata": {
    "scrolled": false
   },
   "outputs": [
    {
     "name": "stdout",
     "output_type": "stream",
     "text": [
      "Missing value count by column:\n",
      "Timestamp                 0\n",
      "Age                       0\n",
      "Gender                    0\n",
      "District                  0\n",
      "Monthly_Income            0\n",
      "RideHailing_App           0\n",
      "P_PickMePreference      250\n",
      "P_PickMePurpose         250\n",
      "P_PickMeFrequency       250\n",
      "P_PickMeVehicle         250\n",
      "P_PickMeTime            250\n",
      "P_PickMePayment         250\n",
      "P_PickMePass            250\n",
      "U_UberPreference        384\n",
      "U_UberPurpose           384\n",
      "U_UberFrequency         384\n",
      "U_UberVehicle           384\n",
      "U_UberTime              384\n",
      "U_UberPayment           384\n",
      "U_UberOne               384\n",
      "B_Preference            227\n",
      "B_SwitchingFrequency    227\n",
      "B_Purpose               227\n",
      "B_Frequency             227\n",
      "B_Time                  227\n",
      "B_PickMeVehicle         227\n",
      "B_UberVehicle           227\n",
      "B_PaymentMethod         227\n",
      "B_PickMePass            227\n",
      "B_UberOne               227\n",
      "dtype: int64\n"
     ]
    }
   ],
   "source": [
    "# Count missing values for each column\n",
    "missing_values = main_df.isnull().sum()\n",
    "\n",
    "# Display the missing value count\n",
    "print(\"Missing value count by column:\")\n",
    "print(missing_values)"
   ]
  },
  {
   "cell_type": "code",
   "execution_count": 9,
   "id": "04378dcf",
   "metadata": {
    "scrolled": false
   },
   "outputs": [],
   "source": [
    "# Remove the Timestamp column\n",
    "main_df = main_df.drop(columns=['Timestamp'])"
   ]
  },
  {
   "cell_type": "code",
   "execution_count": 10,
   "id": "a73e8c4d",
   "metadata": {},
   "outputs": [
    {
     "name": "stdout",
     "output_type": "stream",
     "text": [
      "The dataset contains 355 rows.\n"
     ]
    }
   ],
   "source": [
    "# Filter rows for Colombo district\n",
    "colombo_df = main_df[main_df['District'] == 'Colombo']\n",
    "\n",
    "# Get the row count of the dataset\n",
    "row_count = len(colombo_df)\n",
    "print(f\"The dataset contains {row_count} rows.\")"
   ]
  },
  {
   "cell_type": "code",
   "execution_count": 11,
   "id": "f81dc4b8",
   "metadata": {},
   "outputs": [],
   "source": [
    "# Convert all column names to lowercase\n",
    "colombo_df.columns = colombo_df.columns.str.lower()\n",
    "\n",
    "# Standardize column names (remove leading/trailing spaces and replace multiple spaces with a single space)\n",
    "colombo_df.columns = colombo_df.columns.str.strip().str.replace(r'\\s+', ' ', regex=True)\n",
    "\n",
    "# Standardize string values in all object-type columns\n",
    "colombo_df = colombo_df.apply(lambda x: x.str.strip() if x.dtype == \"object\" else x)\n",
    "\n",
    "# Convert all object-type column values to lowercase\n",
    "colombo_df = colombo_df.apply(lambda x: x.str.lower() if x.dtype == \"object\" else x)"
   ]
  },
  {
   "cell_type": "code",
   "execution_count": 12,
   "id": "2dd83ae4",
   "metadata": {},
   "outputs": [
    {
     "name": "stdout",
     "output_type": "stream",
     "text": [
      "Unique values in the RideHailing_App column:\n",
      "1. pickme only\n",
      "2. both pickme & uber\n",
      "3. personal car\n",
      "4. uber only\n",
      "5. personal transport\n"
     ]
    }
   ],
   "source": [
    "# Print the unique values in the RideHailing_App column\n",
    "print(\"Unique values in the RideHailing_App column:\")\n",
    "for index, value in enumerate(colombo_df['ridehailing_app'].unique(), start=1):\n",
    "    print(f\"{index}. {value}\")"
   ]
  },
  {
   "cell_type": "code",
   "execution_count": 13,
   "id": "ad6f4186",
   "metadata": {},
   "outputs": [
    {
     "name": "stdout",
     "output_type": "stream",
     "text": [
      "Unique values in the RideHailing_App column:\n",
      "1. pickme only\n",
      "2. both pickme & uber\n",
      "3. uber only\n"
     ]
    }
   ],
   "source": [
    "# List of values to remove\n",
    "values_to_remove = ['personal car', 'personal transport']\n",
    "\n",
    "# Filter out rows where RideHailing_App contains unwanted values\n",
    "colombo_df = colombo_df[~colombo_df['ridehailing_app'].isin(values_to_remove)]\n",
    "\n",
    "# Verify the result\n",
    "print(\"Unique values in the RideHailing_App column:\")\n",
    "for index, value in enumerate(colombo_df['ridehailing_app'].unique(), start=1):\n",
    "    print(f\"{index}. {value}\")"
   ]
  },
  {
   "cell_type": "code",
   "execution_count": 14,
   "id": "9398e912",
   "metadata": {},
   "outputs": [
    {
     "name": "stdout",
     "output_type": "stream",
     "text": [
      "The dataset contains 353 rows.\n"
     ]
    }
   ],
   "source": [
    "# Get the row count of the dataset\n",
    "row_count = len(colombo_df)\n",
    "print(f\"The dataset contains {row_count} rows.\")"
   ]
  },
  {
   "cell_type": "markdown",
   "id": "aaf04902",
   "metadata": {},
   "source": [
    "#### dual_platform_df"
   ]
  },
  {
   "cell_type": "code",
   "execution_count": 15,
   "id": "2c7c3445",
   "metadata": {},
   "outputs": [
    {
     "name": "stdout",
     "output_type": "stream",
     "text": [
      "The dataset contains 31 rows.\n"
     ]
    }
   ],
   "source": [
    "# Get the row count of the dataset\n",
    "row_count = len(dual_platform_df)\n",
    "print(f\"The dataset contains {row_count} rows.\")"
   ]
  },
  {
   "cell_type": "code",
   "execution_count": 16,
   "id": "79f409c8",
   "metadata": {},
   "outputs": [
    {
     "data": {
      "text/plain": [
       "Timestamp               datetime64[ns]\n",
       "Age                             object\n",
       "Gender                          object\n",
       "District                        object\n",
       "Monthly_Income                  object\n",
       "RideHailing_App                 object\n",
       "P_PickMePreference             float64\n",
       "P_PickMePurpose                float64\n",
       "P_PickMeFrequency              float64\n",
       "P_PickMeVehicle                float64\n",
       "P_PickMeTime                   float64\n",
       "P_PickMePayment                float64\n",
       "P_PickMePass                   float64\n",
       "U_UberPreference               float64\n",
       "U_UberPurpose                  float64\n",
       "U_UberFrequency                float64\n",
       "U_UberVehicle                  float64\n",
       "U_UberTime                     float64\n",
       "U_UberPayment                  float64\n",
       "U_UberOne                      float64\n",
       "B_Preference                    object\n",
       "B_SwitchingFrequency            object\n",
       "B_Purpose                       object\n",
       "B_Frequency                     object\n",
       "B_Time                         float64\n",
       "B_PickMeVehicle                 object\n",
       "B_UberVehicle                   object\n",
       "B_PaymentMethod                 object\n",
       "B_PickMePass                    object\n",
       "B_UberOne                       object\n",
       "dtype: object"
      ]
     },
     "execution_count": 16,
     "metadata": {},
     "output_type": "execute_result"
    }
   ],
   "source": [
    "dual_platform_df.dtypes"
   ]
  },
  {
   "cell_type": "code",
   "execution_count": 17,
   "id": "f6d3ffcd",
   "metadata": {},
   "outputs": [
    {
     "name": "stdout",
     "output_type": "stream",
     "text": [
      "The dataset contains 31 rows.\n"
     ]
    }
   ],
   "source": [
    "# Remove duplicate rows, if any\n",
    "dual_platform_df.drop_duplicates(inplace=True)\n",
    "\n",
    "# Get the row count of the dataset\n",
    "row_count = len(dual_platform_df)\n",
    "print(f\"The dataset contains {row_count} rows.\")"
   ]
  },
  {
   "cell_type": "code",
   "execution_count": 18,
   "id": "a67395c6",
   "metadata": {},
   "outputs": [
    {
     "name": "stdout",
     "output_type": "stream",
     "text": [
      "The dataset contains 31 rows.\n"
     ]
    }
   ],
   "source": [
    "# Drop rows where all elements are missing\n",
    "dual_platform_df.dropna(how='all', inplace=True)\n",
    "\n",
    "# Get the row count of the dataset\n",
    "row_count = len(dual_platform_df)\n",
    "print(f\"The dataset contains {row_count} rows.\")"
   ]
  },
  {
   "cell_type": "code",
   "execution_count": 19,
   "id": "782f6d18",
   "metadata": {},
   "outputs": [
    {
     "name": "stdout",
     "output_type": "stream",
     "text": [
      "Missing value count by column:\n",
      "Timestamp                0\n",
      "Age                      0\n",
      "Gender                   0\n",
      "District                 0\n",
      "Monthly_Income           0\n",
      "RideHailing_App          0\n",
      "P_PickMePreference      31\n",
      "P_PickMePurpose         31\n",
      "P_PickMeFrequency       31\n",
      "P_PickMeVehicle         31\n",
      "P_PickMeTime            31\n",
      "P_PickMePayment         31\n",
      "P_PickMePass            31\n",
      "U_UberPreference        31\n",
      "U_UberPurpose           31\n",
      "U_UberFrequency         31\n",
      "U_UberVehicle           31\n",
      "U_UberTime              31\n",
      "U_UberPayment           31\n",
      "U_UberOne               31\n",
      "B_Preference             0\n",
      "B_SwitchingFrequency     0\n",
      "B_Purpose                0\n",
      "B_Frequency              0\n",
      "B_Time                  31\n",
      "B_PickMeVehicle          0\n",
      "B_UberVehicle            0\n",
      "B_PaymentMethod          0\n",
      "B_PickMePass             0\n",
      "B_UberOne                0\n",
      "dtype: int64\n"
     ]
    }
   ],
   "source": [
    "# Count missing values for each column\n",
    "missing_values = dual_platform_df.isnull().sum()\n",
    "\n",
    "# Display the missing value count\n",
    "print(\"Missing value count by column:\")\n",
    "print(missing_values)"
   ]
  },
  {
   "cell_type": "code",
   "execution_count": 20,
   "id": "1369b627",
   "metadata": {},
   "outputs": [],
   "source": [
    "# Remove the Timestamp column\n",
    "dual_platform_df = dual_platform_df.drop(columns=['Timestamp'])"
   ]
  },
  {
   "cell_type": "code",
   "execution_count": 21,
   "id": "a8acfa25",
   "metadata": {},
   "outputs": [
    {
     "name": "stdout",
     "output_type": "stream",
     "text": [
      "The dataset contains 31 rows.\n"
     ]
    }
   ],
   "source": [
    "# Filter rows for Colombo district\n",
    "colombo_df2 = dual_platform_df[dual_platform_df['District'] == 'Colombo']\n",
    "\n",
    "# Get the row count of the dataset\n",
    "row_count = len(colombo_df2)\n",
    "print(f\"The dataset contains {row_count} rows.\")"
   ]
  },
  {
   "cell_type": "code",
   "execution_count": 22,
   "id": "e82bbce5",
   "metadata": {},
   "outputs": [],
   "source": [
    "# Convert all column names to lowercase\n",
    "colombo_df2.columns = colombo_df2.columns.str.lower()\n",
    "\n",
    "# Standardize column names (remove leading/trailing spaces and replace multiple spaces with a single space)\n",
    "colombo_df2.columns = colombo_df2.columns.str.strip().str.replace(r'\\s+', ' ', regex=True)\n",
    "\n",
    "# Standardize string values in all object-type columns\n",
    "colombo_df2 = colombo_df2.apply(lambda x: x.str.strip() if x.dtype == \"object\" else x)\n",
    "\n",
    "# Convert all object-type column values to lowercase\n",
    "colombo_df2 = colombo_df2.apply(lambda x: x.str.lower() if x.dtype == \"object\" else x)"
   ]
  },
  {
   "cell_type": "code",
   "execution_count": 23,
   "id": "e3c8ff53",
   "metadata": {},
   "outputs": [
    {
     "name": "stdout",
     "output_type": "stream",
     "text": [
      "Unique values in the RideHailing_App column:\n",
      "1. both pickme & uber\n"
     ]
    }
   ],
   "source": [
    "# Print the unique values in the RideHailing_App column\n",
    "print(\"Unique values in the RideHailing_App column:\")\n",
    "for index, value in enumerate(colombo_df2['ridehailing_app'].unique(), start=1):\n",
    "    print(f\"{index}. {value}\")"
   ]
  },
  {
   "cell_type": "markdown",
   "id": "aecece5d",
   "metadata": {},
   "source": [
    "### Imputation of missing values in b_time column in both_df"
   ]
  },
  {
   "cell_type": "code",
   "execution_count": 24,
   "id": "33755781",
   "metadata": {},
   "outputs": [
    {
     "name": "stdout",
     "output_type": "stream",
     "text": [
      "The dataset contains 165 rows.\n"
     ]
    }
   ],
   "source": [
    "# Filter out rows where RideHailing_App is \"both pickme & uber\"\n",
    "colombo_df_both = colombo_df[colombo_df[\"ridehailing_app\"] == \"both pickme & uber\"]\n",
    "\n",
    "# Get the row count of the dataset\n",
    "row_count = len(colombo_df_both)\n",
    "print(f\"The dataset contains {row_count} rows.\")"
   ]
  },
  {
   "cell_type": "code",
   "execution_count": 25,
   "id": "c5ef1fa4",
   "metadata": {},
   "outputs": [],
   "source": [
    "# Select relevant categorical features for matching\n",
    "matching_columns = [\"b_purpose\", \"b_frequency\"]\n",
    "\n",
    "# Create a filtered dataset from colombo_df_both with non-null b_time for matching\n",
    "filtered_both_df = colombo_df_both.dropna(subset=[\"b_time\"]).copy()"
   ]
  },
  {
   "cell_type": "code",
   "execution_count": 26,
   "id": "2d6710ae",
   "metadata": {},
   "outputs": [],
   "source": [
    "# Define expected b_time values (including late night, adjust if invalid)\n",
    "expected_times = [\n",
    "    \"morning (7 am - 10 am)\",\n",
    "    \"evening (4 pm - 7 pm)\",\n",
    "    \"office hours (7 am - 10 am & 4 pm - 7 pm)\",\n",
    "    \"don't have a specific time\",\n",
    "    \"late night (10 pm - 3 am)\"\n",
    "]"
   ]
  },
  {
   "cell_type": "code",
   "execution_count": 27,
   "id": "7fc422df",
   "metadata": {},
   "outputs": [],
   "source": [
    "# Standardize multi-select b_time (sort to ensure consistency)\n",
    "def standardize_b_time(b_time):\n",
    "    if pd.isna(b_time):\n",
    "        return b_time\n",
    "    # Split, strip, sort, and rejoin\n",
    "    times = [t.strip() for t in b_time.split(\",\") if t.strip() in expected_times]\n",
    "    return \", \".join(sorted(set(times))) if times else \"don't have a specific time\"\n",
    "\n",
    "# Apply standardization to filtered_both_df\n",
    "filtered_both_df[\"b_time\"] = filtered_both_df[\"b_time\"].apply(standardize_b_time)"
   ]
  },
  {
   "cell_type": "code",
   "execution_count": 28,
   "id": "5c9e5b64",
   "metadata": {},
   "outputs": [],
   "source": [
    "# Split b_purpose into lists\n",
    "def split_purpose(purpose):\n",
    "    if pd.isna(purpose):\n",
    "        return []\n",
    "    return [p.strip() for p in purpose.split(\",\")]\n",
    "\n",
    "colombo_df2[\"b_purpose_list\"] = colombo_df2[\"b_purpose\"].apply(split_purpose)\n",
    "filtered_both_df[\"b_purpose_list\"] = filtered_both_df[\"b_purpose\"].apply(split_purpose)"
   ]
  },
  {
   "cell_type": "code",
   "execution_count": 29,
   "id": "fd217576",
   "metadata": {},
   "outputs": [
    {
     "name": "stdout",
     "output_type": "stream",
     "text": [
      "Exact matching filled 14 rows.\n"
     ]
    }
   ],
   "source": [
    "# Exact Matching\n",
    "exact_matches = []\n",
    "exact_filled = 0\n",
    "for idx, row in colombo_df2[colombo_df2[\"b_time\"].isna()].iterrows():\n",
    "    matches = filtered_both_df[\n",
    "        (filtered_both_df[\"b_frequency\"] == row[\"b_frequency\"]) &\n",
    "        (filtered_both_df[\"b_purpose\"] == row[\"b_purpose\"])\n",
    "    ].copy()\n",
    "    if not matches.empty:\n",
    "        b_time_mode = matches[\"b_time\"].mode()\n",
    "        if not b_time_mode.empty:\n",
    "            selected_time = np.random.choice(b_time_mode) if len(b_time_mode) > 1 else b_time_mode[0]\n",
    "            exact_matches.append((idx, selected_time))\n",
    "            exact_filled += 1\n",
    "\n",
    "print(f\"Exact matching filled {exact_filled} rows.\")"
   ]
  },
  {
   "cell_type": "code",
   "execution_count": 30,
   "id": "e6353f08",
   "metadata": {},
   "outputs": [
    {
     "name": "stdout",
     "output_type": "stream",
     "text": [
      "Partial matching filled 14 rows.\n"
     ]
    }
   ],
   "source": [
    "# Partial Matching\n",
    "partial_matches = []\n",
    "partial_filled = 0\n",
    "for idx, row in colombo_df2[colombo_df2[\"b_time\"].isna()].iterrows():\n",
    "    if idx not in [x[0] for x in exact_matches]:\n",
    "        matches = filtered_both_df[\n",
    "            (filtered_both_df[\"b_frequency\"] == row[\"b_frequency\"]) &\n",
    "            filtered_both_df[\"b_purpose_list\"].apply(\n",
    "                lambda x: sum(p in row[\"b_purpose_list\"] for p in x) >= 2 if x and row[\"b_purpose_list\"] else False\n",
    "            )\n",
    "        ].copy()\n",
    "        if not matches.empty:\n",
    "            b_time_mode = matches[\"b_time\"].mode()\n",
    "            if not b_time_mode.empty:\n",
    "                selected_time = np.random.choice(b_time_mode) if len(b_time_mode) > 1 else b_time_mode[0]\n",
    "                partial_matches.append((idx, selected_time))\n",
    "                partial_filled += 1\n",
    "\n",
    "print(f\"Partial matching filled {partial_filled} rows.\")"
   ]
  },
  {
   "cell_type": "code",
   "execution_count": 31,
   "id": "227e08bf",
   "metadata": {},
   "outputs": [
    {
     "name": "stdout",
     "output_type": "stream",
     "text": [
      "Mode fallback filled 3 rows.\n"
     ]
    }
   ],
   "source": [
    "# Mode Fallback\n",
    "mode_fallback = []\n",
    "mode_filled = 0\n",
    "overall_mode = filtered_both_df[\"b_time\"].mode()[0] if not filtered_both_df[\"b_time\"].mode().empty else \"don't have a specific time\"\n",
    "for idx, row in colombo_df2[colombo_df2[\"b_time\"].isna()].iterrows():\n",
    "    if idx not in [x[0] for x in exact_matches + partial_matches]:\n",
    "        mode_fallback.append((idx, overall_mode))\n",
    "        mode_filled += 1\n",
    "\n",
    "print(f\"Mode fallback filled {mode_filled} rows.\")"
   ]
  },
  {
   "cell_type": "code",
   "execution_count": 32,
   "id": "98dc4d4a",
   "metadata": {},
   "outputs": [],
   "source": [
    "# Apply Imputation\n",
    "all_matches = exact_matches + partial_matches + mode_fallback\n",
    "for idx, b_time in all_matches:\n",
    "    colombo_df2.loc[idx, \"b_time\"] = b_time"
   ]
  },
  {
   "cell_type": "code",
   "execution_count": 33,
   "id": "248635c1",
   "metadata": {},
   "outputs": [],
   "source": [
    "# Drop temporary b_purpose_list\n",
    "colombo_df2 = colombo_df2.drop(columns=[\"b_purpose_list\"])\n",
    "filtered_both_df = filtered_both_df.drop(columns=[\"b_purpose_list\"])"
   ]
  },
  {
   "cell_type": "code",
   "execution_count": 34,
   "id": "16c570ce",
   "metadata": {},
   "outputs": [
    {
     "name": "stdout",
     "output_type": "stream",
     "text": [
      "\n",
      "Remaining missing b_time values after imputation: 0\n"
     ]
    }
   ],
   "source": [
    "# Verify missing\n",
    "remaining_missing = colombo_df2[\"b_time\"].isna().sum()\n",
    "print(f\"\\nRemaining missing b_time values after imputation: {remaining_missing}\")"
   ]
  },
  {
   "cell_type": "code",
   "execution_count": 35,
   "id": "748ac51d",
   "metadata": {},
   "outputs": [],
   "source": [
    "# Validate b_time values\n",
    "invalid_times = colombo_df2[\"b_time\"].apply(\n",
    "    lambda x: x if pd.notna(x) and not all(t.strip() in expected_times for t in x.split(\",\")) else None\n",
    ").dropna().unique()\n",
    "if len(invalid_times) > 0:\n",
    "    print(f\"Warning: Invalid b_time values found: {invalid_times}\")"
   ]
  },
  {
   "cell_type": "code",
   "execution_count": 36,
   "id": "6ef32d4a",
   "metadata": {},
   "outputs": [
    {
     "name": "stdout",
     "output_type": "stream",
     "text": [
      "\n",
      "Unique values in colombo_df2 b_time column with their counts:\n",
      "1. don't have a specific time - 25 occurrences\n",
      "2. office hours (7 am - 10 am & 4 pm - 7 pm) - 2 occurrences\n",
      "3. don't have a specific time, office hours (7 am - 10 am & 4 pm - 7 pm) - 1 occurrences\n",
      "4. late night (10 pm - 3 am), office hours (7 am - 10 am & 4 pm - 7 pm) - 1 occurrences\n",
      "5. evening (4 pm - 7 pm), late night (10 pm - 3 am), morning (7 am - 10 am) - 1 occurrences\n",
      "6. evening (4 pm - 7 pm), morning (7 am - 10 am), office hours (7 am - 10 am & 4 pm - 7 pm) - 1 occurrences\n"
     ]
    }
   ],
   "source": [
    "# b_time distribution in colombo_df2\n",
    "print(\"\\nUnique values in colombo_df2 b_time column with their counts:\")\n",
    "b_time_counts = colombo_df2[\"b_time\"].value_counts()\n",
    "for index, (value, count) in enumerate(b_time_counts.items(), start=1):\n",
    "    print(f\"{index}. {value} - {count} occurrences\")"
   ]
  },
  {
   "cell_type": "code",
   "execution_count": 37,
   "id": "0057623e",
   "metadata": {},
   "outputs": [
    {
     "name": "stdout",
     "output_type": "stream",
     "text": [
      "\n",
      "filtered_both_df b_time distribution for reference:\n",
      "1. don't have a specific time - 61 occurrences\n",
      "2. office hours (7 am - 10 am & 4 pm - 7 pm) - 24 occurrences\n",
      "3. evening (4 pm - 7 pm) - 13 occurrences\n",
      "4. late night (10 pm - 3 am), office hours (7 am - 10 am & 4 pm - 7 pm) - 9 occurrences\n",
      "5. evening (4 pm - 7 pm), office hours (7 am - 10 am & 4 pm - 7 pm) - 8 occurrences\n",
      "6. evening (4 pm - 7 pm), late night (10 pm - 3 am), morning (7 am - 10 am) - 6 occurrences\n",
      "7. late night (10 pm - 3 am) - 6 occurrences\n",
      "8. morning (7 am - 10 am) - 5 occurrences\n",
      "9. evening (4 pm - 7 pm), late night (10 pm - 3 am) - 5 occurrences\n",
      "10. evening (4 pm - 7 pm), late night (10 pm - 3 am), office hours (7 am - 10 am & 4 pm - 7 pm) - 5 occurrences\n",
      "11. evening (4 pm - 7 pm), morning (7 am - 10 am) - 5 occurrences\n",
      "12. evening (4 pm - 7 pm), morning (7 am - 10 am), office hours (7 am - 10 am & 4 pm - 7 pm) - 4 occurrences\n",
      "13. don't have a specific time, office hours (7 am - 10 am & 4 pm - 7 pm) - 4 occurrences\n",
      "14. late night (10 pm - 3 am), morning (7 am - 10 am) - 3 occurrences\n",
      "15. morning (7 am - 10 am), office hours (7 am - 10 am & 4 pm - 7 pm) - 2 occurrences\n",
      "16. don't have a specific time, evening (4 pm - 7 pm), late night (10 pm - 3 am), morning (7 am - 10 am), office hours (7 am - 10 am & 4 pm - 7 pm) - 1 occurrences\n",
      "17. late night (10 pm - 3 am), morning (7 am - 10 am), office hours (7 am - 10 am & 4 pm - 7 pm) - 1 occurrences\n",
      "18. don't have a specific time, evening (4 pm - 7 pm) - 1 occurrences\n",
      "19. don't have a specific time, evening (4 pm - 7 pm), office hours (7 am - 10 am & 4 pm - 7 pm) - 1 occurrences\n",
      "20. don't have a specific time, morning (7 am - 10 am), office hours (7 am - 10 am & 4 pm - 7 pm) - 1 occurrences\n"
     ]
    }
   ],
   "source": [
    "# filtered_both_df distribution\n",
    "print(\"\\nfiltered_both_df b_time distribution for reference:\")\n",
    "filtered_b_time_counts = filtered_both_df[\"b_time\"].value_counts()\n",
    "for index, (value, count) in enumerate(filtered_b_time_counts.items(), start=1):\n",
    "    print(f\"{index}. {value} - {count} occurrences\")"
   ]
  },
  {
   "cell_type": "code",
   "execution_count": 38,
   "id": "0a07ebb5",
   "metadata": {},
   "outputs": [
    {
     "name": "stdout",
     "output_type": "stream",
     "text": [
      "float64 columns in colombo_df2: Index(['p_pickmepreference', 'p_pickmepurpose', 'p_pickmefrequency',\n",
      "       'p_pickmevehicle', 'p_pickmetime', 'p_pickmepayment', 'p_pickmepass',\n",
      "       'u_uberpreference', 'u_uberpurpose', 'u_uberfrequency', 'u_ubervehicle',\n",
      "       'u_ubertime', 'u_uberpayment', 'u_uberone'],\n",
      "      dtype='object')\n"
     ]
    }
   ],
   "source": [
    "# Convert float64 columns in colombo_df2 to object\n",
    "float_cols = colombo_df2.select_dtypes(include=['float64']).columns\n",
    "print(f\"float64 columns in colombo_df2: {float_cols}\")"
   ]
  },
  {
   "cell_type": "code",
   "execution_count": 39,
   "id": "79de7d02",
   "metadata": {},
   "outputs": [
    {
     "name": "stdout",
     "output_type": "stream",
     "text": [
      "Converting p_pickmepreference from float64 to object to match colombo_df.\n",
      "Converting p_pickmepurpose from float64 to object to match colombo_df.\n",
      "Converting p_pickmefrequency from float64 to object to match colombo_df.\n",
      "Converting p_pickmevehicle from float64 to object to match colombo_df.\n",
      "Converting p_pickmetime from float64 to object to match colombo_df.\n",
      "Converting p_pickmepayment from float64 to object to match colombo_df.\n",
      "Converting p_pickmepass from float64 to object to match colombo_df.\n",
      "Converting u_uberpreference from float64 to object to match colombo_df.\n",
      "Converting u_uberpurpose from float64 to object to match colombo_df.\n",
      "Converting u_uberfrequency from float64 to object to match colombo_df.\n",
      "Converting u_ubervehicle from float64 to object to match colombo_df.\n",
      "Converting u_ubertime from float64 to object to match colombo_df.\n",
      "Converting u_uberpayment from float64 to object to match colombo_df.\n",
      "Converting u_uberone from float64 to object to match colombo_df.\n"
     ]
    }
   ],
   "source": [
    "for col in float_cols:\n",
    "    if col in colombo_df.columns and colombo_df[col].dtype == 'object':\n",
    "        print(f\"Converting {col} from float64 to object to match colombo_df.\")\n",
    "        colombo_df2[col] = colombo_df2[col].astype('object')\n",
    "    else:\n",
    "        print(f\"Warning: Column {col} is float64 but not in colombo_df or not object. Investigate further.\")"
   ]
  },
  {
   "cell_type": "code",
   "execution_count": 40,
   "id": "53a52a41",
   "metadata": {},
   "outputs": [
    {
     "data": {
      "text/plain": [
       "age                     object\n",
       "gender                  object\n",
       "district                object\n",
       "monthly_income          object\n",
       "ridehailing_app         object\n",
       "p_pickmepreference      object\n",
       "p_pickmepurpose         object\n",
       "p_pickmefrequency       object\n",
       "p_pickmevehicle         object\n",
       "p_pickmetime            object\n",
       "p_pickmepayment         object\n",
       "p_pickmepass            object\n",
       "u_uberpreference        object\n",
       "u_uberpurpose           object\n",
       "u_uberfrequency         object\n",
       "u_ubervehicle           object\n",
       "u_ubertime              object\n",
       "u_uberpayment           object\n",
       "u_uberone               object\n",
       "b_preference            object\n",
       "b_switchingfrequency    object\n",
       "b_purpose               object\n",
       "b_frequency             object\n",
       "b_time                  object\n",
       "b_pickmevehicle         object\n",
       "b_ubervehicle           object\n",
       "b_paymentmethod         object\n",
       "b_pickmepass            object\n",
       "b_uberone               object\n",
       "dtype: object"
      ]
     },
     "execution_count": 40,
     "metadata": {},
     "output_type": "execute_result"
    }
   ],
   "source": [
    "colombo_df2.dtypes"
   ]
  },
  {
   "cell_type": "code",
   "execution_count": 41,
   "id": "0410970c",
   "metadata": {},
   "outputs": [],
   "source": [
    "if set(colombo_df2.columns) != set(colombo_df.columns):\n",
    "    print(\"Warning: Column mismatch between colombo_df2 and colombo_df:\")\n",
    "    print(f\"colombo_df2: {set(colombo_df2.columns) - set(colombo_df.columns)}\")\n",
    "    print(f\"colombo_df: {set(colombo_df.columns) - set(colombo_df2.columns)}\")"
   ]
  },
  {
   "cell_type": "code",
   "execution_count": 42,
   "id": "7191ec95",
   "metadata": {},
   "outputs": [
    {
     "name": "stdout",
     "output_type": "stream",
     "text": [
      "colombo_df_combined dtypes:\n",
      " age                     object\n",
      "gender                  object\n",
      "district                object\n",
      "monthly_income          object\n",
      "ridehailing_app         object\n",
      "p_pickmepreference      object\n",
      "p_pickmepurpose         object\n",
      "p_pickmefrequency       object\n",
      "p_pickmevehicle         object\n",
      "p_pickmetime            object\n",
      "p_pickmepayment         object\n",
      "p_pickmepass            object\n",
      "u_uberpreference        object\n",
      "u_uberpurpose           object\n",
      "u_uberfrequency         object\n",
      "u_ubervehicle           object\n",
      "u_ubertime              object\n",
      "u_uberpayment           object\n",
      "u_uberone               object\n",
      "b_preference            object\n",
      "b_switchingfrequency    object\n",
      "b_purpose               object\n",
      "b_frequency             object\n",
      "b_time                  object\n",
      "b_pickmevehicle         object\n",
      "b_ubervehicle           object\n",
      "b_paymentmethod         object\n",
      "b_pickmepass            object\n",
      "b_uberone               object\n",
      "dtype: object\n",
      "The dataset contains 384 rows.\n"
     ]
    }
   ],
   "source": [
    "# Append colombo_df2_new to colombo_df\n",
    "colombo_df_combined = pd.concat([colombo_df2, colombo_df], ignore_index=True)\n",
    "\n",
    "# Reset index to maintain a clean structure\n",
    "colombo_df_combined.reset_index(drop=True, inplace=True)\n",
    "\n",
    "# Verify dtypes and row count\n",
    "print(\"colombo_df_combined dtypes:\\n\", colombo_df_combined.dtypes)\n",
    "row_count = len(colombo_df_combined)\n",
    "print(f\"The dataset contains {row_count} rows.\")"
   ]
  },
  {
   "cell_type": "markdown",
   "id": "d3565ac2",
   "metadata": {},
   "source": [
    "### Final preprocessing"
   ]
  },
  {
   "cell_type": "code",
   "execution_count": 43,
   "id": "ddd810cd",
   "metadata": {},
   "outputs": [],
   "source": [
    "# Apply transformation: If \"don't have a specific time\" appears with other values, replace it with just \"don't have a specific time\"\n",
    "colombo_df_combined[\"b_time\"] = colombo_df_combined[\"b_time\"].apply(\n",
    "    lambda x: \"don't have a specific time\" if \"don't have a specific time\" in str(x) else x\n",
    ")"
   ]
  },
  {
   "cell_type": "code",
   "execution_count": 44,
   "id": "88ab2306",
   "metadata": {},
   "outputs": [],
   "source": [
    "# Remove extra spaces and unnecessary commas just in case\n",
    "colombo_df_combined = colombo_df_combined.apply(lambda x: x.str.strip() if x.dtype == \"object\" else x)\n",
    "colombo_df_combined = colombo_df_combined.apply(lambda x: x.str.replace(r'\\s+', ' ', regex=True) if x.dtype == \"object\" else x)\n",
    "colombo_df_combined = colombo_df_combined.apply(lambda x: x.str.replace(',+', ',', regex=True) if x.dtype == \"object\" else x)\n",
    "\n",
    "# Rename the dataframe\n",
    "preprocessed_data = colombo_df_combined.copy()"
   ]
  },
  {
   "cell_type": "markdown",
   "id": "170c3458",
   "metadata": {},
   "source": [
    "# EXPLORATORY DATA ANALYSIS"
   ]
  },
  {
   "cell_type": "code",
   "execution_count": 45,
   "id": "39e34d20",
   "metadata": {},
   "outputs": [
    {
     "data": {
      "text/plain": [
       "(384, 29)"
      ]
     },
     "execution_count": 45,
     "metadata": {},
     "output_type": "execute_result"
    }
   ],
   "source": [
    "preprocessed_data.shape"
   ]
  },
  {
   "cell_type": "markdown",
   "id": "50c59391",
   "metadata": {},
   "source": [
    "### Column Descriptions (preprocessed_data)\n",
    "\n",
    "- **age**: Age group of the respondent (e.g., 18-25)\n",
    "- **gender**: Gender of the respondent (male/female)\n",
    "- **district**: Respondent’s district (Colombo only)\n",
    "- **monthly_income**: Reported monthly income bracket\n",
    "- **ridehailing_app**: App(s) used (PickMe, Uber, or both)\n",
    "- **p_pickmepreference**: Reason for preferring PickMe\n",
    "- **p_pickmepurpose**: Purpose for using PickMe\n",
    "- **p_pickmefrequency**: How often PickMe is used\n",
    "- **p_pickmevehicle**: Preferred vehicle on PickMe\n",
    "- **p_pickmetime**: Preferred time for using PickMe\n",
    "- **p_pickmepayment**: Payment method used for PickMe\n",
    "- **p_pickmepass**: Uses PickMe Pass? (yes/no)\n",
    "- **u_uberpreference**: Reason for preferring Uber\n",
    "- **u_uberpurpose**: Purpose for using Uber\n",
    "- **u_uberfrequency**: How often Uber is used\n",
    "- **u_ubervehicle**: Preferred vehicle on Uber\n",
    "- **u_ubertime**: Preferred time for using Uber\n",
    "- **u_uberpayment**: Payment method used for Uber\n",
    "- **u_uberone**: Uses Uber One? (yes/no)\n",
    "- **b_preference**: Reason for using both apps\n",
    "- **b_switchingfrequency**: How often they switch between apps\n",
    "- **b_purpose**: Main purpose for using ride-hailing\n",
    "- **b_frequency**: Ride-hailing usage frequency\n",
    "- **b_time**: Preferred time of travel\n",
    "- **b_pickmevehicle**: Preferred vehicle in PickMe\n",
    "- **b_ubervehicle**: Preferred vehicle in Uber\n",
    "- **b_paymentmethod**: Payment method used (cash/card/both)\n",
    "- **b_pickmepass**: Uses PickMe Pass? (yes/no)\n",
    "- **b_uberone**: Uses Uber One? (yes/no)"
   ]
  },
  {
   "cell_type": "code",
   "execution_count": 46,
   "id": "31b2c0d6",
   "metadata": {},
   "outputs": [],
   "source": [
    "# Set the style for better visuals\n",
    "sns.set_style(\"whitegrid\")"
   ]
  },
  {
   "cell_type": "code",
   "execution_count": 47,
   "id": "80ea27aa",
   "metadata": {},
   "outputs": [
    {
     "data": {
      "image/png": "[encoded data removed]",
      "text/plain": [
       "<Figure size 576x360 with 1 Axes>"
      ]
     },
     "metadata": {},
     "output_type": "display_data"
    }
   ],
   "source": [
    "# Age Groups Distribution\n",
    "plt.figure(figsize=(8, 5))\n",
    "sns.countplot(data=preprocessed_data, x=\"age\", order=preprocessed_data[\"age\"].value_counts().index, palette=\"Blues\")\n",
    "plt.xlabel(\"Age Group\")\n",
    "plt.ylabel(\"Count\")\n",
    "plt.title(\"Distribution of Age Groups\")\n",
    "plt.xticks(rotation=45)\n",
    "plt.savefig(\"age_distribution.png\", dpi=300, bbox_inches='tight')\n",
    "plt.show()"
   ]
  },
  {
   "cell_type": "code",
   "execution_count": 48,
   "id": "5a74f4ae",
   "metadata": {},
   "outputs": [
    {
     "data": {
      "image/png": "[encoded data removed]",
      "text/plain": [
       "<Figure size 432x360 with 1 Axes>"
      ]
     },
     "metadata": {},
     "output_type": "display_data"
    }
   ],
   "source": [
    "# Gender Distribution\n",
    "plt.figure(figsize=(6, 5))\n",
    "sns.countplot(data=preprocessed_data, x=\"gender\", palette=\"viridis\")\n",
    "plt.xlabel(\"Gender\")\n",
    "plt.ylabel(\"Count\")\n",
    "plt.title(\"Gender Distribution\")\n",
    "plt.savefig(\"gender_distribution.png\", dpi=300, bbox_inches='tight')\n",
    "plt.show()"
   ]
  },
  {
   "cell_type": "code",
   "execution_count": 49,
   "id": "34caf31e",
   "metadata": {},
   "outputs": [
    {
     "data": {
      "image/png": "[encoded data removed]",
      "text/plain": [
       "<Figure size 576x360 with 1 Axes>"
      ]
     },
     "metadata": {},
     "output_type": "display_data"
    }
   ],
   "source": [
    "# Monthly Household Income Distribution\n",
    "plt.figure(figsize=(8, 5))\n",
    "sns.countplot(data=preprocessed_data, y=\"monthly_income\", order=preprocessed_data[\"monthly_income\"].value_counts().index, palette=\"Greens\")\n",
    "plt.ylabel(\"Monthly Household Income\")\n",
    "plt.xlabel(\"Count\")\n",
    "plt.title(\"Distribution of Monthly Household Income\")\n",
    "plt.savefig(\"householdincome_distribution.png\", dpi=300, bbox_inches='tight')\n",
    "plt.show()"
   ]
  },
  {
   "cell_type": "code",
   "execution_count": 50,
   "id": "b8da7577",
   "metadata": {},
   "outputs": [
    {
     "data": {
      "image/png": "[encoded data removed]",
      "text/plain": [
       "<Figure size 576x360 with 1 Axes>"
      ]
     },
     "metadata": {},
     "output_type": "display_data"
    }
   ],
   "source": [
    "# Ride-Hailing App Preferences Breakdown\n",
    "ride_hailing_counts = preprocessed_data[\"ridehailing_app\"].value_counts()\n",
    "\n",
    "plt.figure(figsize=(8, 5))\n",
    "ride_hailing_counts.plot(kind=\"bar\", color=[\"#1f77b4\", \"#ff7f0e\", \"#2ca02c\"])\n",
    "plt.xlabel(\"Ride-Hailing App(s) Used\")\n",
    "plt.ylabel(\"Count\")\n",
    "plt.title(\"Comparison of Ride-Hailing App Preferences\")\n",
    "plt.xticks(rotation=45)\n",
    "plt.savefig(\"platform_distribution.png\", dpi=300, bbox_inches='tight')\n",
    "plt.show()"
   ]
  },
  {
   "cell_type": "markdown",
   "id": "6ae77718",
   "metadata": {},
   "source": [
    "# k-mode Clustering "
   ]
  },
  {
   "cell_type": "code",
   "execution_count": 51,
   "id": "c9d7dd7d",
   "metadata": {},
   "outputs": [
    {
     "name": "stdout",
     "output_type": "stream",
     "text": [
      "Requirement already satisfied: kmodes in c:\\users\\user\\anaconda3\\lib\\site-packages (0.12.2)\n",
      "Requirement already satisfied: numpy>=1.10.4 in c:\\users\\user\\anaconda3\\lib\\site-packages (from kmodes) (1.21.5)\n",
      "Requirement already satisfied: joblib>=0.11 in c:\\users\\user\\anaconda3\\lib\\site-packages (from kmodes) (1.1.0)\n",
      "Requirement already satisfied: scipy>=0.13.3 in c:\\users\\user\\anaconda3\\lib\\site-packages (from kmodes) (1.7.3)\n",
      "Requirement already satisfied: scikit-learn>=0.22.0 in c:\\users\\user\\anaconda3\\lib\\site-packages (from kmodes) (1.0.2)\n",
      "Requirement already satisfied: threadpoolctl>=2.0.0 in c:\\users\\user\\anaconda3\\lib\\site-packages (from scikit-learn>=0.22.0->kmodes) (2.2.0)\n"
     ]
    }
   ],
   "source": [
    "# Import the nessasary libraries for clustering\n",
    "!pip install kmodes"
   ]
  },
  {
   "cell_type": "code",
   "execution_count": 52,
   "id": "a8ebc69a",
   "metadata": {},
   "outputs": [],
   "source": [
    "from kmodes.kmodes import KModes"
   ]
  },
  {
   "cell_type": "code",
   "execution_count": 53,
   "id": "67d1c2e8",
   "metadata": {},
   "outputs": [
    {
     "name": "stdout",
     "output_type": "stream",
     "text": [
      "age                     0\n",
      "gender                  0\n",
      "district                0\n",
      "monthly_income          0\n",
      "ridehailing_app         0\n",
      "p_pickmepreference      0\n",
      "p_pickmepurpose         0\n",
      "p_pickmefrequency       0\n",
      "p_pickmevehicle         0\n",
      "p_pickmetime            0\n",
      "p_pickmepayment         0\n",
      "p_pickmepass            0\n",
      "u_uberpreference        0\n",
      "u_uberpurpose           0\n",
      "u_uberfrequency         0\n",
      "u_ubervehicle           0\n",
      "u_ubertime              0\n",
      "u_uberpayment           0\n",
      "u_uberone               0\n",
      "b_preference            0\n",
      "b_switchingfrequency    0\n",
      "b_purpose               0\n",
      "b_frequency             0\n",
      "b_time                  0\n",
      "b_pickmevehicle         0\n",
      "b_ubervehicle           0\n",
      "b_paymentmethod         0\n",
      "b_pickmepass            0\n",
      "b_uberone               0\n",
      "dtype: int64\n"
     ]
    }
   ],
   "source": [
    "# Replace nulls with \"Not Applicable\" due to conditional survey design\n",
    "df_for_clustering = preprocessed_data.fillna(\"Not Applicable\")\n",
    "print(df_for_clustering.isnull().sum())  # Should show 0 for all columns"
   ]
  },
  {
   "cell_type": "code",
   "execution_count": 54,
   "id": "1409961f",
   "metadata": {},
   "outputs": [],
   "source": [
    "# Make sure all columns are treated as categorical (convert to string)\n",
    "df_for_clustering = df_for_clustering.astype(str)"
   ]
  },
  {
   "cell_type": "code",
   "execution_count": 55,
   "id": "772ea416",
   "metadata": {},
   "outputs": [],
   "source": [
    "# Determine the optimal number of clusters using the cost function\n",
    "costs = []\n",
    "K_range = range(2, 10)  # Testing clusters from 2 to 10\n",
    "\n",
    "for K in K_range:\n",
    "    km = KModes(n_clusters=K, init='Huang', n_init=5, verbose=0)\n",
    "    km.fit(df_for_clustering)\n",
    "    costs.append(km.cost_)"
   ]
  },
  {
   "cell_type": "code",
   "execution_count": 56,
   "id": "14e70058",
   "metadata": {},
   "outputs": [
    {
     "data": {
      "image/png": "[encoded data removed]",
      "text/plain": [
       "<Figure size 576x360 with 1 Axes>"
      ]
     },
     "metadata": {},
     "output_type": "display_data"
    }
   ],
   "source": [
    "# Plot the Elbow Method (cost function plot)\n",
    "import matplotlib.pyplot as plt\n",
    "\n",
    "plt.figure(figsize=(8, 5))\n",
    "plt.plot(K_range, costs, marker=\"o\", linestyle=\"dashed\")\n",
    "plt.xlabel(\"Number of Clusters (K)\")\n",
    "plt.ylabel(\"Cost Function\")\n",
    "plt.title(\"Elbow Method for Optimal K in K-Modes Clustering\")\n",
    "plt.savefig(\"elbowmethod.png\", dpi=300, bbox_inches='tight')\n",
    "plt.show()"
   ]
  },
  {
   "cell_type": "code",
   "execution_count": 57,
   "id": "7d6fe76c",
   "metadata": {},
   "outputs": [],
   "source": [
    "def categorical_silhouette_score(X, labels):\n",
    "    unique_labels = np.unique(labels)\n",
    "    silhouette_scores = []\n",
    "    for i, label in enumerate(labels):\n",
    "        same_cluster = X[labels == label]\n",
    "        other_clusters = X[labels != label]\n",
    "        if len(same_cluster) > 1:\n",
    "            a = np.mean([np.sum(same_cluster != row) for row in same_cluster])\n",
    "            b = np.min([np.mean(np.sum(other_clusters != row, axis=1)) for row in same_cluster])\n",
    "            silhouette_scores.append((b - a) / max(a, b))\n",
    "    return np.mean(silhouette_scores) if silhouette_scores else -1"
   ]
  },
  {
   "cell_type": "code",
   "execution_count": 58,
   "id": "81b74970",
   "metadata": {},
   "outputs": [],
   "source": [
    "def dunn_index(X, labels):\n",
    "    unique_labels = np.unique(labels)\n",
    "    intra_distances = []\n",
    "    inter_distances = []\n",
    "    for label in unique_labels:\n",
    "        cluster_points = X[labels == label]\n",
    "        if len(cluster_points) > 1:\n",
    "            intra_distances.append(np.mean([np.sum(cluster_points != row) for row in cluster_points]))\n",
    "    for i, label_i in enumerate(unique_labels):\n",
    "        cluster_i = X[labels == label_i]\n",
    "        for j, label_j in enumerate(unique_labels):\n",
    "            if i != j:\n",
    "                cluster_j = X[labels == label_j]\n",
    "                inter_distances.append(np.mean([np.sum(cluster_i != row) for row in cluster_j]))\n",
    "    return min(inter_distances) / max(intra_distances) if intra_distances and inter_distances else -1"
   ]
  },
  {
   "cell_type": "code",
   "execution_count": 59,
   "id": "4a55356d",
   "metadata": {},
   "outputs": [],
   "source": [
    "# Convert categorical values to numeric codes (only for evaluation)\n",
    "X_numeric = df_for_clustering.apply(lambda col: col.astype(\"category\").cat.codes).to_numpy()\n",
    "\n",
    "# Initialize evaluation metric containers\n",
    "silhouette_scores = []\n",
    "dunn_indices = []\n",
    "\n",
    "# Evaluate clustering performance for different values of K\n",
    "for K in K_range:\n",
    "    km = KModes(n_clusters=K, init='Huang', n_init=5, verbose=0)\n",
    "    labels = km.fit_predict(df_for_clustering)\n",
    "\n",
    "    # Append evaluation metrics\n",
    "    silhouette_scores.append(categorical_silhouette_score(X_numeric, labels))\n",
    "    dunn_indices.append(dunn_index(X_numeric, labels))"
   ]
  },
  {
   "cell_type": "code",
   "execution_count": 60,
   "id": "8cb26d1f",
   "metadata": {},
   "outputs": [
    {
     "data": {
      "image/png": "[encoded data removed]",
      "text/plain": [
       "<Figure size 576x288 with 1 Axes>"
      ]
     },
     "metadata": {},
     "output_type": "display_data"
    }
   ],
   "source": [
    "# Plot evaluation metrics\n",
    "plt.figure(figsize=(8, 4))\n",
    "plt.plot(K_range, silhouette_scores, marker=\"o\", linestyle=\"dashed\", color=\"blue\")\n",
    "plt.title(\"Silhouette Score for Categorical Data\")\n",
    "plt.xlabel(\"Number of Clusters (K)\")\n",
    "plt.ylabel(\"Silhouette Score\")\n",
    "plt.savefig(\"silhouette_score.png\", dpi=300, bbox_inches='tight')\n",
    "plt.show()\n"
   ]
  },
  {
   "cell_type": "code",
   "execution_count": 61,
   "id": "eadec6d9",
   "metadata": {},
   "outputs": [
    {
     "data": {
      "image/png": "[encoded data removed]",
      "text/plain": [
       "<Figure size 576x288 with 1 Axes>"
      ]
     },
     "metadata": {},
     "output_type": "display_data"
    }
   ],
   "source": [
    "plt.figure(figsize=(8, 4))\n",
    "plt.plot(K_range, dunn_indices, marker=\"o\", linestyle=\"dashed\", color=\"green\")\n",
    "plt.title(\"Dunn Index\")\n",
    "plt.xlabel(\"Number of Clusters (K)\")\n",
    "plt.ylabel(\"Dunn Index\")\n",
    "plt.savefig(\"dunnindex.png\", dpi=300, bbox_inches='tight')\n",
    "plt.show()"
   ]
  },
  {
   "cell_type": "code",
   "execution_count": 62,
   "id": "14ced830",
   "metadata": {},
   "outputs": [
    {
     "name": "stdout",
     "output_type": "stream",
     "text": [
      "Initialization method and algorithm are deterministic. Setting n_init to 1.\n",
      "Init: initializing centroids\n",
      "Init: initializing clusters\n",
      "Starting iterations...\n",
      "Run 1, iteration: 1/100, moves: 23, cost: 2330.0\n",
      "Run 1, iteration: 2/100, moves: 15, cost: 2319.0\n",
      "Run 1, iteration: 3/100, moves: 10, cost: 2319.0\n"
     ]
    }
   ],
   "source": [
    "# Optimal clusters (k=4) selected using elbow method, Dunn index, and categorical silhouette score.\n",
    "# Apply K-Modes clustering to df_for_clustering\n",
    "k = 4\n",
    "kmodes_model = KModes(n_clusters=k, init=\"Cao\", n_init=15, verbose=1)\n",
    "cluster_labels = kmodes_model.fit_predict(df_for_clustering)"
   ]
  },
  {
   "cell_type": "code",
   "execution_count": 63,
   "id": "d22025a8",
   "metadata": {},
   "outputs": [
    {
     "name": "stdout",
     "output_type": "stream",
     "text": [
      "\n",
      "Cluster Distribution:\n",
      "Cluster 1: 147 (~38.3%)\n",
      "Cluster 0: 136 (~35.4%)\n",
      "Cluster 3: 60 (~15.6%)\n",
      "Cluster 2: 41 (~10.7%)\n"
     ]
    }
   ],
   "source": [
    "# Add cluster labels to the original dataset\n",
    "preprocessed_data[\"Cluster\"] = cluster_labels\n",
    "\n",
    "# View cluster distribution with counts and percentages\n",
    "cluster_counts = preprocessed_data[\"Cluster\"].value_counts()\n",
    "total_rows = len(preprocessed_data)\n",
    "print(\"\\nCluster Distribution:\")\n",
    "for cluster, count in cluster_counts.items():\n",
    "    percentage = (count / total_rows) * 100\n",
    "    print(f\"Cluster {cluster}: {count} (~{percentage:.1f}%)\")"
   ]
  },
  {
   "cell_type": "code",
   "execution_count": 64,
   "id": "fd2f0c2a",
   "metadata": {},
   "outputs": [
    {
     "name": "stdout",
     "output_type": "stream",
     "text": [
      "ridehailing_app  both pickme & uber  pickme only  uber only\n",
      "Cluster                                                    \n",
      "0                             100.0          0.0        0.0\n",
      "1                               0.0        100.0        0.0\n",
      "2                               0.0          0.0      100.0\n",
      "3                             100.0          0.0        0.0\n"
     ]
    }
   ],
   "source": [
    "# Generate cluster summaries\n",
    "\n",
    "cluster_summary = preprocessed_data.groupby(\"Cluster\")[\"ridehailing_app\"].value_counts(normalize=True).unstack().fillna(0) * 100\n",
    "\n",
    "# Display as percentage distribution in each cluster\n",
    "print(cluster_summary.round(2))"
   ]
  },
  {
   "cell_type": "code",
   "execution_count": 65,
   "id": "1422b349",
   "metadata": {
    "scrolled": false
   },
   "outputs": [],
   "source": [
    "visual_columns = ['age', 'gender', 'monthly_income', 'ridehailing_app']\n",
    "\n",
    "excluded_columns = [\"customerid\", \"Cluster\"]\n",
    "profile_columns = [\n",
    "    col for col in preprocessed_data.columns\n",
    "    if preprocessed_data[col].dtype == 'object' and col not in excluded_columns\n",
    "]"
   ]
  },
  {
   "cell_type": "code",
   "execution_count": 66,
   "id": "81225561",
   "metadata": {
    "scrolled": false
   },
   "outputs": [
    {
     "data": {
      "image/png": "[encoded data removed]",
      "text/plain": [
       "<Figure size 720x360 with 1 Axes>"
      ]
     },
     "metadata": {},
     "output_type": "display_data"
    },
    {
     "data": {
      "image/png": "[encoded data removed]",
      "text/plain": [
       "<Figure size 720x360 with 1 Axes>"
      ]
     },
     "metadata": {},
     "output_type": "display_data"
    },
    {
     "data": {
      "image/png": "[encoded data removed]",
      "text/plain": [
       "<Figure size 720x360 with 1 Axes>"
      ]
     },
     "metadata": {},
     "output_type": "display_data"
    },
    {
     "data": {
      "image/png": "[encoded data removed]",
      "text/plain": [
       "<Figure size 720x360 with 1 Axes>"
      ]
     },
     "metadata": {},
     "output_type": "display_data"
    }
   ],
   "source": [
    "cluster_profiles = {}\n",
    "\n",
    "# Visualize only selected columns\n",
    "for col in visual_columns:\n",
    "    summary = preprocessed_data.groupby(\"Cluster\")[col].value_counts(normalize=True).unstack().fillna(0) * 100\n",
    "    cluster_profiles[col] = summary\n",
    "\n",
    "    summary.T.plot(kind=\"bar\", stacked=True,figsize=(10, 5))\n",
    "    plt.title(f\"Distribution of {col} across Clusters\")\n",
    "    plt.ylabel(\"Percentage (%)\")\n",
    "    plt.xlabel(col)\n",
    "    plt.legend(title=\"Cluster\", bbox_to_anchor=(1.05, 1), loc='upper left')\n",
    "    plt.tight_layout()\n",
    "    plt.show()"
   ]
  },
  {
   "cell_type": "code",
   "execution_count": 67,
   "id": "7a788ef6",
   "metadata": {
    "scrolled": false
   },
   "outputs": [
    {
     "name": "stdout",
     "output_type": "stream",
     "text": [
      "🔹 **Cluster 0**:\n",
      "   - Most users are '18-25' for **age** (61.0%)\n",
      "   - Most users are 'male' for **gender** (56.6%)\n",
      "   - Most users are 'colombo' for **district** (100.0%)\n",
      "   - Most users are 'less than lkr 50,000' for **monthly_income** (21.3%)\n",
      "   - Most users are 'both pickme & uber' for **ridehailing_app** (100.0%)\n",
      "   - Most users are 'to compare prices' for **b_preference** (22.1%)\n",
      "   - Most users are 'often' for **b_switchingfrequency** (54.4%)\n",
      "   - Most users are 'comfort and convenience' for **b_purpose** (19.1%)\n",
      "   - Most users are 'weekly' for **b_frequency** (48.5%)\n",
      "   - Most users are 'don't have a specific time' for **b_time** (48.5%)\n",
      "   - Most users are 'tuk' for **b_pickmevehicle** (36.8%)\n",
      "   - Most users are 'tuk' for **b_ubervehicle** (61.0%)\n",
      "   - Most users are 'cash' for **b_paymentmethod** (60.3%)\n",
      "   - Most users are 'no' for **b_pickmepass** (83.8%)\n",
      "   - Most users are 'no' for **b_uberone** (79.4%)\n",
      "\n",
      "------------------------------------------------------------\n",
      "🔹 **Cluster 1**:\n",
      "   - Most users are '18-25' for **age** (49.0%)\n",
      "   - Most users are 'female' for **gender** (57.1%)\n",
      "   - Most users are 'colombo' for **district** (100.0%)\n",
      "   - Most users are 'less than lkr 50,000' for **monthly_income** (33.3%)\n",
      "   - Most users are 'pickme only' for **ridehailing_app** (100.0%)\n",
      "   - Most users are 'better availability in my area' for **p_pickmepreference** (22.4%)\n",
      "   - Most users are 'comfort and convenience' for **p_pickmepurpose** (19.0%)\n",
      "   - Most users are 'occasionally' for **p_pickmefrequency** (45.6%)\n",
      "   - Most users are 'tuk' for **p_pickmevehicle** (49.7%)\n",
      "   - Most users are 'don't have a specific time' for **p_pickmetime** (42.9%)\n",
      "   - Most users are 'cash' for **p_pickmepayment** (70.7%)\n",
      "   - Most users are 'no' for **p_pickmepass** (65.3%)\n",
      "\n",
      "------------------------------------------------------------\n",
      "🔹 **Cluster 2**:\n",
      "   - Most users are '18-25' for **age** (70.7%)\n",
      "   - Most users are 'male' for **gender** (56.1%)\n",
      "   - Most users are 'colombo' for **district** (100.0%)\n",
      "   - Most users are 'less than lkr 50,000' for **monthly_income** (31.7%)\n",
      "   - Most users are 'uber only' for **ridehailing_app** (100.0%)\n",
      "   - Most users are 'affordable fares' for **u_uberpreference** (9.8%)\n",
      "   - Most users are 'comfort and convenience' for **u_uberpurpose** (17.1%)\n",
      "   - Most users are 'occasionally' for **u_uberfrequency** (34.1%)\n",
      "   - Most users are 'tuk' for **u_ubervehicle** (56.1%)\n",
      "   - Most users are 'don't have a specific time' for **u_ubertime** (34.1%)\n",
      "   - Most users are 'cash' for **u_uberpayment** (75.6%)\n",
      "   - Most users are 'no' for **u_uberone** (73.2%)\n",
      "\n",
      "------------------------------------------------------------\n",
      "🔹 **Cluster 3**:\n",
      "   - Most users are '18-25' for **age** (55.0%)\n",
      "   - Most users are 'female' for **gender** (70.0%)\n",
      "   - Most users are 'colombo' for **district** (100.0%)\n",
      "   - Most users are 'lkr 50,000 – 99,999' for **monthly_income** (40.0%)\n",
      "   - Most users are 'both pickme & uber' for **ridehailing_app** (100.0%)\n",
      "   - Most users are 'urgency or convenience' for **b_preference** (16.7%)\n",
      "   - Most users are 'always' for **b_switchingfrequency** (50.0%)\n",
      "   - Most users are 'comfort and convenience' for **b_purpose** (10.0%)\n",
      "   - Most users are 'daily' for **b_frequency** (40.0%)\n",
      "   - Most users are 'don't have a specific time' for **b_time** (43.3%)\n",
      "   - Most users are 'tuk, car' for **b_pickmevehicle** (45.0%)\n",
      "   - Most users are 'tuk, zip' for **b_ubervehicle** (48.3%)\n",
      "   - Most users are 'both cash & card' for **b_paymentmethod** (61.7%)\n",
      "   - Most users are 'yes' for **b_pickmepass** (53.3%)\n",
      "   - Most users are 'yes' for **b_uberone** (73.3%)\n",
      "\n",
      "------------------------------------------------------------\n"
     ]
    }
   ],
   "source": [
    "text_profiles = []\n",
    "\n",
    "for cluster in sorted(preprocessed_data[\"Cluster\"].unique()):\n",
    "    desc = f\"🔹 **Cluster {cluster}**:\\n\"\n",
    "    for col in profile_columns:\n",
    "        cluster_data = preprocessed_data[preprocessed_data[\"Cluster\"] == cluster][col].dropna()\n",
    "        \n",
    "        if not cluster_data.empty:\n",
    "            try:\n",
    "                mode_value = cluster_data.mode()[0]\n",
    "                mode_pct = cluster_data.value_counts(normalize=True).loc[mode_value] * 100\n",
    "                desc += f\"   - Most users are '{mode_value}' for **{col}** ({mode_pct:.1f}%)\\n\"\n",
    "            except:\n",
    "                pass  # Silently skip if something goes wrong\n",
    "    print(desc)\n",
    "    print(\"-\" * 60)\n"
   ]
  },
  {
   "cell_type": "code",
   "execution_count": 70,
   "id": "c1c012e1",
   "metadata": {},
   "outputs": [],
   "source": [
    "# Define a mapping from cluster number to descriptive label\n",
    "cluster_label_map = {\n",
    "    0: \"Flexible Weekly Dual-App Users\",\n",
    "    1: \"PickMe-Focused, Low-Frequency Cash Users\",\n",
    "    2: \"Occasional Price Sensitive Uber Users\",\n",
    "    3: \"Loyal Female Dominant Daily Riders with Subscriptions\"\n",
    "}\n",
    "\n",
    "# Create the new column using the mapping\n",
    "preprocessed_data[\"cluster_label\"] = preprocessed_data[\"Cluster\"].map(cluster_label_map)"
   ]
  },
  {
   "cell_type": "code",
   "execution_count": 71,
   "id": "b3df8b1e",
   "metadata": {},
   "outputs": [
    {
     "name": "stdout",
     "output_type": "stream",
     "text": [
      "Clustered data saved to 'clustered_data.csv'\n"
     ]
    }
   ],
   "source": [
    "preprocessed_data.to_csv(\"clustered_data.csv\", index=False)\n",
    "print(\"Clustered data saved to 'clustered_data.csv'\")"
   ]
  },
  {
   "cell_type": "code",
   "execution_count": null,
   "id": "8cd5371b",
   "metadata": {},
   "outputs": [],
   "source": []
  }
 ],
 "metadata": {
  "kernelspec": {
   "display_name": "Python 3 (ipykernel)",
   "language": "python",
   "name": "python3"
  },
  "language_info": {
   "codemirror_mode": {
    "name": "ipython",
    "version": 3
   },
   "file_extension": ".py",
   "mimetype": "text/x-python",
   "name": "python",
   "nbconvert_exporter": "python",
   "pygments_lexer": "ipython3",
   "version": "3.9.12"
  }
 },
 "nbformat": 4,
 "nbformat_minor": 5
}
